{
 "cells": [
  {
   "cell_type": "code",
   "execution_count": null,
   "metadata": {},
   "outputs": [],
   "source": [
    "#importing libraries\n",
    "import os\n",
    "import numpy as np\n",
    "import flask\n",
    "import pickle\n",
    "from flask import Flask, render_template, request\n",
    "\n",
    "#creating instance of the class\n",
    "app=Flask(__name__)\n",
    "\n",
    "#to tell flask what url shoud trigger the function index()\n",
    "@app.route('/')\n",
    "@app.route('/index')\n",
    "def index():\n",
    "    return flask.render_template('DiamondPrice.html')\n",
    "    #return \"Hello World\"\n",
    "\n",
    "#prediction function\n",
    "def ValuePredictor(to_predict_list):\n",
    "    to_predict = np.array(to_predict_list).reshape(1,11)\n",
    "    loaded_model = pickle.load(open(\"model.pkl\",\"rb\"))\n",
    "    result = loaded_model.predict(to_predict)\n",
    "    return result[0]\n",
    "\n",
    "\n",
    "@app.route('/result',methods = ['POST'])\n",
    "def result():\n",
    "    if request.method == 'POST':\n",
    "        request_dict = request.form.to_dict()\n",
    "        request_list=list(request_dict.values())\n",
    "        to_predict_list = request_list\n",
    "        to_predict_list[1] = float(request_list[1])\n",
    "        to_predict_list[5] = float(request_list[5])\n",
    "        to_predict_list[7] = float(request_list[7])\n",
    "        to_predict_list[10] = float(request_list[10])\n",
    "        result = ValuePredictor(to_predict_list)\n",
    "        prediction= np.exp(result)\n",
    "            \n",
    "        return render_template(\"result.html\",prediction=prediction)\n",
    "\n",
    "if __name__ == \"__main__\":\n",
    "\tapp.run(debug=True)"
   ]
  }
 ],
 "metadata": {
  "kernelspec": {
   "display_name": "Python 3",
   "language": "python",
   "name": "python3"
  },
  "language_info": {
   "codemirror_mode": {
    "name": "ipython",
    "version": 3
   },
   "file_extension": ".py",
   "mimetype": "text/x-python",
   "name": "python",
   "nbconvert_exporter": "python",
   "pygments_lexer": "ipython3",
   "version": "3.7.3"
  }
 },
 "nbformat": 4,
 "nbformat_minor": 2
}
